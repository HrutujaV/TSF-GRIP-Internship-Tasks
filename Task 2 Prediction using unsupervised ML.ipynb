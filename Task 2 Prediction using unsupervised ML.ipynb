{
 "cells": [
  {
   "cell_type": "markdown",
   "id": "ec74e6ac",
   "metadata": {},
   "source": [
    "# *Data Science and Buisness Analytics Internship*"
   ]
  },
  {
   "cell_type": "markdown",
   "id": "17bdfc17",
   "metadata": {
    "ExecuteTime": {
     "end_time": "2022-12-14T07:09:02.081052Z",
     "start_time": "2022-12-14T07:09:02.046977Z"
    }
   },
   "source": [
    "# *TSF GRIP DEC22*"
   ]
  },
  {
   "cell_type": "markdown",
   "id": "9f27709d",
   "metadata": {},
   "source": [
    "# Task 2: Prediction using unsupervised ML"
   ]
  },
  {
   "cell_type": "markdown",
   "id": "e925db11",
   "metadata": {},
   "source": [
    "- In this task, we have to predict the optimum number of clusters and represent it visually.\n",
    "- The data used for this task is a classic iris dataset. The Iris flower data set or Fisher's Iris data set is a multivariate data set. The data set consists of 150 samples from each of three species of Iris (Iris setosa Iris virginica and Iris versicolor). Four features were measured from each sample: the length and the width of the sepals and petals, in centimeters. Based on the combination of these four features, Fisher developed a linear discriminant model to distinguish the species from each other."
   ]
  },
  {
   "cell_type": "markdown",
   "id": "687607d1",
   "metadata": {},
   "source": [
    "# KMeans Clustering:"
   ]
  },
  {
   "cell_type": "code",
   "execution_count": 2,
   "id": "b993f1ac",
   "metadata": {
    "ExecuteTime": {
     "end_time": "2022-12-14T07:29:07.392733Z",
     "start_time": "2022-12-14T07:29:04.379895Z"
    }
   },
   "outputs": [],
   "source": [
    "# Importing required libraries\n",
    "import pandas as pd\n",
    "import numpy as np\n",
    "import matplotlib.pyplot as plt\n",
    "import seaborn as sns\n",
    "from sklearn.cluster import KMeans\n",
    "%matplotlib inline"
   ]
  },
  {
   "cell_type": "code",
   "execution_count": 3,
   "id": "6d6e6878",
   "metadata": {
    "ExecuteTime": {
     "end_time": "2022-12-14T07:52:15.994379Z",
     "start_time": "2022-12-14T07:52:15.000348Z"
    }
   },
   "outputs": [
    {
     "name": "stdout",
     "output_type": "stream",
     "text": [
      "Data imported successfully!!!!!\n"
     ]
    },
    {
     "data": {
      "text/html": [
       "<div>\n",
       "<style scoped>\n",
       "    .dataframe tbody tr th:only-of-type {\n",
       "        vertical-align: middle;\n",
       "    }\n",
       "\n",
       "    .dataframe tbody tr th {\n",
       "        vertical-align: top;\n",
       "    }\n",
       "\n",
       "    .dataframe thead th {\n",
       "        text-align: right;\n",
       "    }\n",
       "</style>\n",
       "<table border=\"1\" class=\"dataframe\">\n",
       "  <thead>\n",
       "    <tr style=\"text-align: right;\">\n",
       "      <th></th>\n",
       "      <th>Id</th>\n",
       "      <th>SepalLengthCm</th>\n",
       "      <th>SepalWidthCm</th>\n",
       "      <th>PetalLengthCm</th>\n",
       "      <th>PetalWidthCm</th>\n",
       "      <th>Species</th>\n",
       "    </tr>\n",
       "  </thead>\n",
       "  <tbody>\n",
       "    <tr>\n",
       "      <th>0</th>\n",
       "      <td>1</td>\n",
       "      <td>5.1</td>\n",
       "      <td>3.5</td>\n",
       "      <td>1.4</td>\n",
       "      <td>0.2</td>\n",
       "      <td>Iris-setosa</td>\n",
       "    </tr>\n",
       "    <tr>\n",
       "      <th>1</th>\n",
       "      <td>2</td>\n",
       "      <td>4.9</td>\n",
       "      <td>3.0</td>\n",
       "      <td>1.4</td>\n",
       "      <td>0.2</td>\n",
       "      <td>Iris-setosa</td>\n",
       "    </tr>\n",
       "    <tr>\n",
       "      <th>2</th>\n",
       "      <td>3</td>\n",
       "      <td>4.7</td>\n",
       "      <td>3.2</td>\n",
       "      <td>1.3</td>\n",
       "      <td>0.2</td>\n",
       "      <td>Iris-setosa</td>\n",
       "    </tr>\n",
       "    <tr>\n",
       "      <th>3</th>\n",
       "      <td>4</td>\n",
       "      <td>4.6</td>\n",
       "      <td>3.1</td>\n",
       "      <td>1.5</td>\n",
       "      <td>0.2</td>\n",
       "      <td>Iris-setosa</td>\n",
       "    </tr>\n",
       "    <tr>\n",
       "      <th>4</th>\n",
       "      <td>5</td>\n",
       "      <td>5.0</td>\n",
       "      <td>3.6</td>\n",
       "      <td>1.4</td>\n",
       "      <td>0.2</td>\n",
       "      <td>Iris-setosa</td>\n",
       "    </tr>\n",
       "  </tbody>\n",
       "</table>\n",
       "</div>"
      ],
      "text/plain": [
       "   Id  SepalLengthCm  SepalWidthCm  PetalLengthCm  PetalWidthCm      Species\n",
       "0   1            5.1           3.5            1.4           0.2  Iris-setosa\n",
       "1   2            4.9           3.0            1.4           0.2  Iris-setosa\n",
       "2   3            4.7           3.2            1.3           0.2  Iris-setosa\n",
       "3   4            4.6           3.1            1.5           0.2  Iris-setosa\n",
       "4   5            5.0           3.6            1.4           0.2  Iris-setosa"
      ]
     },
     "execution_count": 3,
     "metadata": {},
     "output_type": "execute_result"
    }
   ],
   "source": [
    "# Loading the dataset \n",
    "data = pd.read_csv(\"Iris.csv\")\n",
    "print(\"Data imported successfully!!!!!\")\n",
    "data.head(5)"
   ]
  },
  {
   "cell_type": "code",
   "execution_count": 4,
   "id": "8a6efacf",
   "metadata": {
    "ExecuteTime": {
     "end_time": "2022-12-14T07:53:06.913324Z",
     "start_time": "2022-12-14T07:53:06.684216Z"
    }
   },
   "outputs": [
    {
     "name": "stdout",
     "output_type": "stream",
     "text": [
      "   SepalLengthCm  SepalWidthCm  PetalLengthCm  PetalWidthCm\n",
      "0            5.1           3.5            1.4           0.2\n",
      "1            4.9           3.0            1.4           0.2\n",
      "2            4.7           3.2            1.3           0.2\n",
      "3            4.6           3.1            1.5           0.2\n",
      "4            5.0           3.6            1.4           0.2\n",
      "5            5.4           3.9            1.7           0.4\n",
      "6            4.6           3.4            1.4           0.3\n",
      "7            5.0           3.4            1.5           0.2\n",
      "8            4.4           2.9            1.4           0.2\n",
      "9            4.9           3.1            1.5           0.1\n"
     ]
    }
   ],
   "source": [
    "# Forming the iris dataframe\n",
    "f_data = pd.DataFrame(data=data,columns=['SepalLengthCm', 'SepalWidthCm', 'PetalLengthCm', 'PetalWidthCm'])\n",
    "print(f_data.head(10))"
   ]
  },
  {
   "cell_type": "markdown",
   "id": "a6f08852",
   "metadata": {},
   "source": [
    "### EDA -\n",
    "           - Outliers or abnormal occurrences in a dataset can have an impact on the accuracy of machine learning models. \n",
    "           - The dataset might also contain some missing or duplicate values. EDA may be used to eliminate or resolve all of the dataset’s undesirable qualities."
   ]
  },
  {
   "cell_type": "code",
   "execution_count": 5,
   "id": "d479bf37",
   "metadata": {
    "ExecuteTime": {
     "end_time": "2022-12-14T07:54:19.784845Z",
     "start_time": "2022-12-14T07:54:19.762776Z"
    }
   },
   "outputs": [
    {
     "data": {
      "text/plain": [
       "(150, 4)"
      ]
     },
     "execution_count": 5,
     "metadata": {},
     "output_type": "execute_result"
    }
   ],
   "source": [
    "f_data.shape"
   ]
  },
  {
   "cell_type": "code",
   "execution_count": 6,
   "id": "8ea6a3a2",
   "metadata": {
    "ExecuteTime": {
     "end_time": "2022-12-14T07:54:39.488847Z",
     "start_time": "2022-12-14T07:54:39.469035Z"
    }
   },
   "outputs": [
    {
     "data": {
      "text/plain": [
       "Index(['SepalLengthCm', 'SepalWidthCm', 'PetalLengthCm', 'PetalWidthCm'], dtype='object')"
      ]
     },
     "execution_count": 6,
     "metadata": {},
     "output_type": "execute_result"
    }
   ],
   "source": [
    "f_data.columns"
   ]
  },
  {
   "cell_type": "code",
   "execution_count": 8,
   "id": "c05b1c3c",
   "metadata": {
    "ExecuteTime": {
     "end_time": "2022-12-14T07:55:11.261268Z",
     "start_time": "2022-12-14T07:55:11.193990Z"
    }
   },
   "outputs": [
    {
     "data": {
      "text/html": [
       "<div>\n",
       "<style scoped>\n",
       "    .dataframe tbody tr th:only-of-type {\n",
       "        vertical-align: middle;\n",
       "    }\n",
       "\n",
       "    .dataframe tbody tr th {\n",
       "        vertical-align: top;\n",
       "    }\n",
       "\n",
       "    .dataframe thead th {\n",
       "        text-align: right;\n",
       "    }\n",
       "</style>\n",
       "<table border=\"1\" class=\"dataframe\">\n",
       "  <thead>\n",
       "    <tr style=\"text-align: right;\">\n",
       "      <th></th>\n",
       "      <th>SepalLengthCm</th>\n",
       "      <th>SepalWidthCm</th>\n",
       "      <th>PetalLengthCm</th>\n",
       "      <th>PetalWidthCm</th>\n",
       "    </tr>\n",
       "  </thead>\n",
       "  <tbody>\n",
       "    <tr>\n",
       "      <th>count</th>\n",
       "      <td>150.000000</td>\n",
       "      <td>150.000000</td>\n",
       "      <td>150.000000</td>\n",
       "      <td>150.000000</td>\n",
       "    </tr>\n",
       "    <tr>\n",
       "      <th>mean</th>\n",
       "      <td>5.843333</td>\n",
       "      <td>3.054000</td>\n",
       "      <td>3.758667</td>\n",
       "      <td>1.198667</td>\n",
       "    </tr>\n",
       "    <tr>\n",
       "      <th>std</th>\n",
       "      <td>0.828066</td>\n",
       "      <td>0.433594</td>\n",
       "      <td>1.764420</td>\n",
       "      <td>0.763161</td>\n",
       "    </tr>\n",
       "    <tr>\n",
       "      <th>min</th>\n",
       "      <td>4.300000</td>\n",
       "      <td>2.000000</td>\n",
       "      <td>1.000000</td>\n",
       "      <td>0.100000</td>\n",
       "    </tr>\n",
       "    <tr>\n",
       "      <th>25%</th>\n",
       "      <td>5.100000</td>\n",
       "      <td>2.800000</td>\n",
       "      <td>1.600000</td>\n",
       "      <td>0.300000</td>\n",
       "    </tr>\n",
       "    <tr>\n",
       "      <th>50%</th>\n",
       "      <td>5.800000</td>\n",
       "      <td>3.000000</td>\n",
       "      <td>4.350000</td>\n",
       "      <td>1.300000</td>\n",
       "    </tr>\n",
       "    <tr>\n",
       "      <th>75%</th>\n",
       "      <td>6.400000</td>\n",
       "      <td>3.300000</td>\n",
       "      <td>5.100000</td>\n",
       "      <td>1.800000</td>\n",
       "    </tr>\n",
       "    <tr>\n",
       "      <th>max</th>\n",
       "      <td>7.900000</td>\n",
       "      <td>4.400000</td>\n",
       "      <td>6.900000</td>\n",
       "      <td>2.500000</td>\n",
       "    </tr>\n",
       "  </tbody>\n",
       "</table>\n",
       "</div>"
      ],
      "text/plain": [
       "       SepalLengthCm  SepalWidthCm  PetalLengthCm  PetalWidthCm\n",
       "count     150.000000    150.000000     150.000000    150.000000\n",
       "mean        5.843333      3.054000       3.758667      1.198667\n",
       "std         0.828066      0.433594       1.764420      0.763161\n",
       "min         4.300000      2.000000       1.000000      0.100000\n",
       "25%         5.100000      2.800000       1.600000      0.300000\n",
       "50%         5.800000      3.000000       4.350000      1.300000\n",
       "75%         6.400000      3.300000       5.100000      1.800000\n",
       "max         7.900000      4.400000       6.900000      2.500000"
      ]
     },
     "execution_count": 8,
     "metadata": {},
     "output_type": "execute_result"
    }
   ],
   "source": [
    "f_data.describe()"
   ]
  },
  {
   "cell_type": "code",
   "execution_count": 9,
   "id": "52527718",
   "metadata": {
    "ExecuteTime": {
     "end_time": "2022-12-14T07:55:29.787474Z",
     "start_time": "2022-12-14T07:55:29.769025Z"
    }
   },
   "outputs": [
    {
     "data": {
      "text/plain": [
       "SepalLengthCm    float64\n",
       "SepalWidthCm     float64\n",
       "PetalLengthCm    float64\n",
       "PetalWidthCm     float64\n",
       "dtype: object"
      ]
     },
     "execution_count": 9,
     "metadata": {},
     "output_type": "execute_result"
    }
   ],
   "source": [
    "f_data.dtypes"
   ]
  },
  {
   "cell_type": "markdown",
   "id": "af329bb0",
   "metadata": {},
   "source": [
    "### Knowing missing values"
   ]
  },
  {
   "cell_type": "code",
   "execution_count": 11,
   "id": "42e27385",
   "metadata": {
    "ExecuteTime": {
     "end_time": "2022-12-14T07:57:21.039497Z",
     "start_time": "2022-12-14T07:57:20.980673Z"
    }
   },
   "outputs": [
    {
     "name": "stdout",
     "output_type": "stream",
     "text": [
      "<class 'pandas.core.frame.DataFrame'>\n",
      "RangeIndex: 150 entries, 0 to 149\n",
      "Data columns (total 4 columns):\n",
      " #   Column         Non-Null Count  Dtype  \n",
      "---  ------         --------------  -----  \n",
      " 0   SepalLengthCm  150 non-null    float64\n",
      " 1   SepalWidthCm   150 non-null    float64\n",
      " 2   PetalLengthCm  150 non-null    float64\n",
      " 3   PetalWidthCm   150 non-null    float64\n",
      "dtypes: float64(4)\n",
      "memory usage: 4.8 KB\n"
     ]
    }
   ],
   "source": [
    "f_data.info()"
   ]
  },
  {
   "cell_type": "code",
   "execution_count": 12,
   "id": "87b0823b",
   "metadata": {
    "ExecuteTime": {
     "end_time": "2022-12-14T07:57:43.121182Z",
     "start_time": "2022-12-14T07:57:43.106230Z"
    }
   },
   "outputs": [
    {
     "data": {
      "text/plain": [
       "SepalLengthCm    0\n",
       "SepalWidthCm     0\n",
       "PetalLengthCm    0\n",
       "PetalWidthCm     0\n",
       "dtype: int64"
      ]
     },
     "execution_count": 12,
     "metadata": {},
     "output_type": "execute_result"
    }
   ],
   "source": [
    "f_data.isnull().sum()"
   ]
  },
  {
   "cell_type": "markdown",
   "id": "fd86e75f",
   "metadata": {},
   "source": [
    " - The variables have no missing values."
   ]
  },
  {
   "cell_type": "markdown",
   "id": "2579a059",
   "metadata": {},
   "source": [
    "####  *Analysing the distributions of sepal and petal dimensions*"
   ]
  },
  {
   "cell_type": "code",
   "execution_count": 14,
   "id": "9266cd8e",
   "metadata": {
    "ExecuteTime": {
     "end_time": "2022-12-14T08:00:22.253347Z",
     "start_time": "2022-12-14T08:00:20.595999Z"
    }
   },
   "outputs": [
    {
     "data": {
      "image/png": "[encoded data removed]",
      "text/plain": [
       "<Figure size 1600x800 with 4 Axes>"
      ]
     },
     "metadata": {},
     "output_type": "display_data"
    }
   ],
   "source": [
    "fig, axes = plt.subplots(2, 2, figsize=(16, 8))\n",
    "\n",
    "#plot for sepal length\n",
    "axes[0,0].set_title('Distribution of Sepal Length')\n",
    "axes[0,0].hist(data[\"SepalLengthCm\"]);\n",
    "\n",
    "#plot for sepal width\n",
    "axes[0,1].set_title('Distribution of Sepal Width')\n",
    "axes[0,1].hist(data[\"SepalWidthCm\"]);\n",
    "\n",
    "#plot for petal length\n",
    "axes[1,0].set_title('Distribution of Petal Length')\n",
    "axes[1,0].hist(data[\"PetalLengthCm\"]); \n",
    "\n",
    "#plot for petal width\n",
    "axes[1,1].set_title('Distribution of Petal Width')\n",
    "axes[1,1].hist(data[\"PetalWidthCm\"]);"
   ]
  },
  {
   "cell_type": "markdown",
   "id": "9e131c61",
   "metadata": {},
   "source": [
    "##### From above histograms,we can observe that: \n",
    "                      - sepal width has almost normal curve.\n",
    "                      - sepal length is lightly right skewed.\n",
    "                      - We can't make any assumptions about the distributions of petal length and petal width just based on the histograms,as it does not have a definitive shape."
   ]
  },
  {
   "cell_type": "markdown",
   "id": "85358cd5",
   "metadata": {},
   "source": [
    "#### Analysing correlation between the features"
   ]
  },
  {
   "cell_type": "code",
   "execution_count": 15,
   "id": "6116cdb3",
   "metadata": {
    "ExecuteTime": {
     "end_time": "2022-12-14T08:01:41.814804Z",
     "start_time": "2022-12-14T08:01:41.310414Z"
    }
   },
   "outputs": [
    {
     "data": {
      "image/png": "[encoded data removed]",
      "text/plain": [
       "<Figure size 800x400 with 2 Axes>"
      ]
     },
     "metadata": {},
     "output_type": "display_data"
    }
   ],
   "source": [
    "plt.figure(figsize=(8,4))\n",
    "sns.heatmap(f_data.corr(), annot=True);"
   ]
  },
  {
   "cell_type": "markdown",
   "id": "85f819dc",
   "metadata": {
    "ExecuteTime": {
     "end_time": "2022-12-14T08:02:34.109389Z",
     "start_time": "2022-12-14T08:02:34.083460Z"
    }
   },
   "source": [
    "- From above heatmap, we can observe that:\n",
    "                          - There is a high correlation between Petal length and petal width.\n",
    "                          - Sepal length and sepal width are almost independent of each other.\n",
    "                          - But, sepal length has a high correlation with both the petal length and petal width."
   ]
  },
  {
   "cell_type": "markdown",
   "id": "0e108725",
   "metadata": {
    "ExecuteTime": {
     "end_time": "2022-12-14T08:07:45.173467Z",
     "start_time": "2022-12-14T08:07:45.159088Z"
    }
   },
   "source": [
    "#### Optimum number of clusters for K Means:"
   ]
  },
  {
   "cell_type": "code",
   "execution_count": 26,
   "id": "827ba59b",
   "metadata": {
    "ExecuteTime": {
     "end_time": "2022-12-14T08:19:01.757945Z",
     "start_time": "2022-12-14T08:18:58.121009Z"
    }
   },
   "outputs": [
    {
     "name": "stderr",
     "output_type": "stream",
     "text": [
      "C:\\Users\\DS_USER\\anaconda3\\lib\\site-packages\\sklearn\\cluster\\_kmeans.py:1036: UserWarning: KMeans is known to have a memory leak on Windows with MKL, when there are less chunks than available threads. You can avoid it by setting the environment variable OMP_NUM_THREADS=1.\n",
      "  warnings.warn(\n"
     ]
    },
    {
     "data": {
      "image/png": "[encoded data removed]",
      "text/plain": [
       "<Figure size 640x480 with 1 Axes>"
      ]
     },
     "metadata": {},
     "output_type": "display_data"
    }
   ],
   "source": [
    "a = f_data.iloc[:, [0, 1, 2, 3]].values\n",
    "\n",
    "from sklearn.cluster import KMeans\n",
    "wcss = []\n",
    "\n",
    "for i in range(1, 11):\n",
    "    kmeans = KMeans(n_clusters = i, init = 'k-means++', \n",
    "                    max_iter = 300, n_init = 10, random_state = 0)\n",
    "    kmeans.fit(a)\n",
    "    wcss.append(kmeans.inertia_)\n",
    "    \n",
    "# Plotting the results onto a line graph, \n",
    "# `allowing us to observe 'The elbow'\n",
    "plt.plot(range(1, 11), wcss)\n",
    "plt.title('The elbow method')\n",
    "plt.xlabel('Number of clusters')\n",
    "plt.ylabel('WCSS') # Within cluster sum of squares\n",
    "plt.show()"
   ]
  },
  {
   "cell_type": "markdown",
   "id": "7bfe420f",
   "metadata": {},
   "source": [
    " - From the above graph which is drawn by using elbow method, we choose the number of clusters as 3. "
   ]
  },
  {
   "cell_type": "code",
   "execution_count": 27,
   "id": "b08fbf2a",
   "metadata": {
    "ExecuteTime": {
     "end_time": "2022-12-14T08:19:27.100047Z",
     "start_time": "2022-12-14T08:19:27.011812Z"
    }
   },
   "outputs": [
    {
     "name": "stdout",
     "output_type": "stream",
     "text": [
      "[1 1 1 1 1 1 1 1 1 1 1 1 1 1 1 1 1 1 1 1 1 1 1 1 1 1 1 1 1 1 1 1 1 1 1 1 1\n",
      " 1 1 1 1 1 1 1 1 1 1 1 1 1 0 0 2 0 0 0 0 0 0 0 0 0 0 0 0 0 0 0 0 0 0 0 0 0\n",
      " 0 0 0 2 0 0 0 0 0 0 0 0 0 0 0 0 0 0 0 0 0 0 0 0 0 0 2 0 2 2 2 2 0 2 2 2 2\n",
      " 2 2 0 0 2 2 2 2 0 2 0 2 0 2 2 0 0 2 2 2 2 2 0 2 2 2 2 0 2 2 2 0 2 2 2 0 2\n",
      " 2 0]\n"
     ]
    }
   ],
   "source": [
    "# fitting the model to the train data\n",
    "\n",
    "kmeans = KMeans(n_clusters = 3, init = 'k-means++',\n",
    "                max_iter = 300, n_init = 10, random_state = 0)\n",
    "y_kmeans = kmeans.fit_predict(a)\n",
    "print(y_kmeans)"
   ]
  },
  {
   "cell_type": "markdown",
   "id": "061f267d",
   "metadata": {},
   "source": [
    "- y_kmeans give us different clusters corresponding to X"
   ]
  },
  {
   "cell_type": "code",
   "execution_count": 34,
   "id": "e440fff0",
   "metadata": {
    "ExecuteTime": {
     "end_time": "2022-12-14T08:24:15.589362Z",
     "start_time": "2022-12-14T08:24:15.113560Z"
    }
   },
   "outputs": [
    {
     "data": {
      "text/plain": [
       "<matplotlib.legend.Legend at 0x1d9125ea430>"
      ]
     },
     "execution_count": 34,
     "metadata": {},
     "output_type": "execute_result"
    },
    {
     "data": {
      "image/png": "[encoded data removed]",
      "text/plain": [
       "<Figure size 640x480 with 1 Axes>"
      ]
     },
     "metadata": {},
     "output_type": "display_data"
    }
   ],
   "source": [
    "# Visualising the clusters - On the first two columns\n",
    "plt.scatter(a[y_kmeans == 0, 0], a[y_kmeans == 0, 1], \n",
    "            s = 100, c = 'green', label = 'Iris-setosa')\n",
    "plt.scatter(a[y_kmeans == 1, 0], a[y_kmeans == 1, 1], \n",
    "            s = 100, c = 'purple', label = 'Iris-versicolour')\n",
    "plt.scatter(a[y_kmeans == 2, 0], a[y_kmeans == 2, 1],\n",
    "            s = 100, c = 'yellow', label = 'Iris-virginica')\n",
    "\n",
    "# Plotting the centroids of the clusters\n",
    "plt.scatter(kmeans.cluster_centers_[:, 0], kmeans.cluster_centers_[:,1], \n",
    "            s = 100, c = 'red', label = 'Centroids')\n",
    "\n",
    "plt.legend()"
   ]
  },
  {
   "cell_type": "markdown",
   "id": "0e5b0ca4",
   "metadata": {},
   "source": [
    "# Cluster Evaluation:\n",
    "\n",
    "- Let's evaluate the performance of our clusters. For that I used Silhouette score method.\n",
    "\n",
    "- Silhouette score is used to evaluate the quality of clusters using clustering algorithms such as K-means in terms of how well samples are clusterd with other samples that are similar to each other."
   ]
  },
  {
   "cell_type": "code",
   "execution_count": 35,
   "id": "0f76283a",
   "metadata": {
    "ExecuteTime": {
     "end_time": "2022-12-14T08:25:38.565606Z",
     "start_time": "2022-12-14T08:25:38.464739Z"
    }
   },
   "outputs": [
    {
     "name": "stdout",
     "output_type": "stream",
     "text": [
      "For 3 clusters, Silhouette score is  0.5525919445499757\n"
     ]
    }
   ],
   "source": [
    "from sklearn.metrics import silhouette_score\n",
    "score=silhouette_score(a,y_kmeans,metric=\"euclidean\")\n",
    "print(\"For 3 clusters, Silhouette score is \",score)"
   ]
  },
  {
   "cell_type": "markdown",
   "id": "ec09517c",
   "metadata": {},
   "source": [
    "- As we know Silhouette score vary -1 to 1. When score is 1 that means, the clusters are very dense and nicely separated. So we can say that our clusters are also nicely separated."
   ]
  },
  {
   "cell_type": "markdown",
   "id": "3b229e62",
   "metadata": {},
   "source": [
    "-                Thank You!!!!"
   ]
  }
 ],
 "metadata": {
  "hide_input": false,
  "kernelspec": {
   "display_name": "Python 3 (ipykernel)",
   "language": "python",
   "name": "python3"
  },
  "language_info": {
   "codemirror_mode": {
    "name": "ipython",
    "version": 3
   },
   "file_extension": ".py",
   "mimetype": "text/x-python",
   "name": "python",
   "nbconvert_exporter": "python",
   "pygments_lexer": "ipython3",
   "version": "3.9.13"
  },
  "toc": {
   "base_numbering": 1,
   "nav_menu": {},
   "number_sections": true,
   "sideBar": true,
   "skip_h1_title": false,
   "title_cell": "Table of Contents",
   "title_sidebar": "Contents",
   "toc_cell": false,
   "toc_position": {},
   "toc_section_display": true,
   "toc_window_display": false
  },
  "varInspector": {
   "cols": {
    "lenName": 16,
    "lenType": 16,
    "lenVar": 40
   },
   "kernels_config": {
    "python": {
     "delete_cmd_postfix": "",
     "delete_cmd_prefix": "del ",
     "library": "var_list.py",
     "varRefreshCmd": "print(var_dic_list())"
    },
    "r": {
     "delete_cmd_postfix": ") ",
     "delete_cmd_prefix": "rm(",
     "library": "var_list.r",
     "varRefreshCmd": "cat(var_dic_list()) "
    }
   },
   "types_to_exclude": [
    "module",
    "function",
    "builtin_function_or_method",
    "instance",
    "_Feature"
   ],
   "window_display": false
  }
 },
 "nbformat": 4,
 "nbformat_minor": 5
}
